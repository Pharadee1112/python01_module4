{
 "cells": [
  {
   "cell_type": "markdown",
   "id": "e314cf3e",
   "metadata": {},
   "source": [
    "git เพื่อที่จะใช้เพื่อเก็บโค้ด มันสามารถเปลี่ยนโค้ดได้ ถ้าคอมพังก็จะหา git เจอ เพราะว่ามันเก็บไว้เเล้วเป็นเหมือน doc เก็บเอาไว้"
   ]
  },
  {
   "cell_type": "markdown",
   "id": "464d7718",
   "metadata": {},
   "source": [
    "repositorise ก็เหมือนไฟล์เดอร์ที่เก็บไฟล์เอาไว้ในนั้น "
   ]
  },
  {
   "cell_type": "markdown",
   "id": "d4282c8e",
   "metadata": {},
   "source": [
    "## วันที่ 2 "
   ]
  },
  {
   "cell_type": "markdown",
   "id": "bb6aab7e",
   "metadata": {},
   "source": [
    "print() มันจะ print ใน line นั้นเพียงเท่านั้น\n"
   ]
  },
  {
   "cell_type": "markdown",
   "id": "69a63a0b",
   "metadata": {},
   "source": [
    "#comment เพื่อที่จะเขียนไว้ ตอนที่รันจะไม่เห็น เเต่เพื่อที่จะอธิบายโค้ดที่เขียน "
   ]
  },
  {
   "cell_type": "markdown",
   "id": "f22fe67f",
   "metadata": {},
   "source": []
  }
 ],
 "metadata": {
  "language_info": {
   "name": "python"
  }
 },
 "nbformat": 4,
 "nbformat_minor": 5
}
