{
 "cells": [
  {
   "cell_type": "code",
   "execution_count": 1,
   "id": "4a0b7a98",
   "metadata": {},
   "outputs": [
    {
     "name": "stdout",
     "output_type": "stream",
     "text": [
      "hello world!\n"
     ]
    }
   ],
   "source": [
    "print(\"hello world!\")"
   ]
  },
  {
   "cell_type": "markdown",
   "id": "8d0e1367",
   "metadata": {},
   "source": [
    "# Hello P VE"
   ]
  },
  {
   "cell_type": "markdown",
   "id": "16d3897f",
   "metadata": {},
   "source": [
    "$ax^2 + bx + c$"
   ]
  },
  {
   "cell_type": "code",
   "execution_count": null,
   "id": "e75d5b3a",
   "metadata": {},
   "outputs": [
    {
     "name": "stdout",
     "output_type": "stream",
     "text": [
      "<class 'int'>\n",
      "True\n"
     ]
    }
   ],
   "source": [
    "print(type(-0))\n",
    "\n",
    "print(isinstance(10, int)) #แปลว่ามันเช็กว่า 10 เป็น int หรือเปล่า "
   ]
  },
  {
   "cell_type": "code",
   "execution_count": 6,
   "id": "13f9eaf7",
   "metadata": {},
   "outputs": [],
   "source": [
    "#string \n",
    "#to declare string\n",
    "\"hello\"\n",
    "'hello'\n",
    "\n",
    "s = '''\n",
    "this is the multi line string\n",
    "not comment at all\n",
    "'''\n",
    "#มันจะเเสดงผลด้วย"
   ]
  },
  {
   "cell_type": "code",
   "execution_count": 7,
   "id": "ffd1908a",
   "metadata": {},
   "outputs": [
    {
     "name": "stdout",
     "output_type": "stream",
     "text": [
      "\n",
      "this is the multi line string\n",
      "not comment at all\n",
      "\n"
     ]
    }
   ],
   "source": [
    "print(s)"
   ]
  },
  {
   "cell_type": "code",
   "execution_count": 8,
   "id": "cc1f2090",
   "metadata": {},
   "outputs": [
    {
     "name": "stdout",
     "output_type": "stream",
     "text": [
      "False\n"
     ]
    }
   ],
   "source": [
    "print(bool(0))"
   ]
  },
  {
   "cell_type": "code",
   "execution_count": 9,
   "id": "447080a1",
   "metadata": {},
   "outputs": [
    {
     "name": "stdout",
     "output_type": "stream",
     "text": [
      "True\n"
     ]
    }
   ],
   "source": [
    "print(bool(1))"
   ]
  },
  {
   "cell_type": "code",
   "execution_count": 10,
   "id": "ea855bd8",
   "metadata": {},
   "outputs": [
    {
     "name": "stdout",
     "output_type": "stream",
     "text": [
      "False\n"
     ]
    }
   ],
   "source": [
    "print(bool(0.0))"
   ]
  },
  {
   "cell_type": "code",
   "execution_count": 11,
   "id": "9afe9695",
   "metadata": {},
   "outputs": [
    {
     "name": "stdout",
     "output_type": "stream",
     "text": [
      "True\n"
     ]
    }
   ],
   "source": [
    "print(bool('h'))"
   ]
  },
  {
   "cell_type": "markdown",
   "id": "1069d266",
   "metadata": {},
   "source": [
    "เป็น boolean it will be false becase it is 0\n",
    "\n",
    "string will be false if it empty\n"
   ]
  },
  {
   "cell_type": "markdown",
   "id": "9186b9f5",
   "metadata": {},
   "source": [
    "# variable "
   ]
  },
  {
   "cell_type": "code",
   "execution_count": 13,
   "id": "07a730f3",
   "metadata": {},
   "outputs": [
    {
     "name": "stdout",
     "output_type": "stream",
     "text": [
      "20\n",
      "john\n"
     ]
    }
   ],
   "source": [
    "x = 1\n",
    "s = \"hello\"\n",
    "\n",
    "age = 20\n",
    "name = \"john\"\n",
    "\n",
    "print(age)\n",
    "print(name)"
   ]
  },
  {
   "cell_type": "code",
   "execution_count": null,
   "id": "3e7e3b25",
   "metadata": {},
   "outputs": [],
   "source": [
    "#snake case we use in python1\n",
    "founded_year_utcc_admission_department = 2030\n",
    "\n",
    "#camel case\n",
    "foundedYearUtccAdmissionDepartment = 2018\n",
    "\n",
    "#pascal case ใช้ใน javascript\n",
    "FoundedYearUtccAdmissionDepartment = 2015"
   ]
  },
  {
   "cell_type": "markdown",
   "id": "ace6c9a2",
   "metadata": {},
   "source": [
    "reversed variable (should not use!)\n",
    "\n",
    "## pep8 styling"
   ]
  },
  {
   "cell_type": "code",
   "execution_count": null,
   "id": "c7b8d4d1",
   "metadata": {},
   "outputs": [],
   "source": []
  },
  {
   "cell_type": "markdown",
   "id": "95c7ff6d",
   "metadata": {},
   "source": [
    "# input\n",
    "## is kind of string"
   ]
  },
  {
   "cell_type": "code",
   "execution_count": 15,
   "id": "583d82d4",
   "metadata": {},
   "outputs": [
    {
     "data": {
      "text/plain": [
       "'whyyy'"
      ]
     },
     "execution_count": 15,
     "metadata": {},
     "output_type": "execute_result"
    }
   ],
   "source": [
    "input()"
   ]
  },
  {
   "cell_type": "code",
   "execution_count": null,
   "id": "73663b9a",
   "metadata": {},
   "outputs": [
    {
     "name": "stdout",
     "output_type": "stream",
     "text": [
      "22\n"
     ]
    }
   ],
   "source": [
    "age = input() #เป็น string สามารถเปลี่ยนได้ เพระาเป้น type ของ input\n",
    "print(age)"
   ]
  },
  {
   "cell_type": "code",
   "execution_count": 18,
   "id": "eaacb17f",
   "metadata": {},
   "outputs": [
    {
     "name": "stdout",
     "output_type": "stream",
     "text": [
      "10\n",
      "20\n"
     ]
    }
   ],
   "source": [
    "age = int(input()) #แปลงเป็น int\n",
    "print(age)\n",
    "print(age + 10)"
   ]
  },
  {
   "cell_type": "code",
   "execution_count": 19,
   "id": "3978988d",
   "metadata": {},
   "outputs": [
    {
     "name": "stdout",
     "output_type": "stream",
     "text": [
      "hello vee\n"
     ]
    }
   ],
   "source": [
    "name = input()\n",
    "print(\"hello \" + name)"
   ]
  },
  {
   "cell_type": "code",
   "execution_count": 22,
   "id": "48e636c7",
   "metadata": {},
   "outputs": [
    {
     "name": "stdout",
     "output_type": "stream",
     "text": [
      "hi kam\n"
     ]
    }
   ],
   "source": [
    "name =  input()\n",
    "hello = \"hi\"\n",
    "print(hello + \" \" + name)"
   ]
  },
  {
   "cell_type": "markdown",
   "id": "1158332d",
   "metadata": {},
   "source": []
  }
 ],
 "metadata": {
  "kernelspec": {
   "display_name": "base",
   "language": "python",
   "name": "python3"
  },
  "language_info": {
   "codemirror_mode": {
    "name": "ipython",
    "version": 3
   },
   "file_extension": ".py",
   "mimetype": "text/x-python",
   "name": "python",
   "nbconvert_exporter": "python",
   "pygments_lexer": "ipython3",
   "version": "3.12.4"
  }
 },
 "nbformat": 4,
 "nbformat_minor": 5
}
