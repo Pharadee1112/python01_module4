{
 "cells": [
  {
   "cell_type": "code",
   "execution_count": 1,
   "id": "d3c64a4c",
   "metadata": {},
   "outputs": [
    {
     "name": "stdout",
     "output_type": "stream",
     "text": [
      "3.14\n"
     ]
    }
   ],
   "source": [
    "#float()\n",
    "a = float(\"3.14\")\n",
    "print(a)"
   ]
  },
  {
   "cell_type": "code",
   "execution_count": null,
   "id": "58f8b99a",
   "metadata": {},
   "outputs": [
    {
     "ename": "ValueError",
     "evalue": "invalid literal for int() with base 10: '3.99'",
     "output_type": "error",
     "traceback": [
      "\u001b[1;31m---------------------------------------------------------------------------\u001b[0m",
      "\u001b[1;31mValueError\u001b[0m                                Traceback (most recent call last)",
      "Cell \u001b[1;32mIn[2], line 2\u001b[0m\n\u001b[0;32m      1\u001b[0m \u001b[38;5;66;03m#int\u001b[39;00m\n\u001b[1;32m----> 2\u001b[0m a \u001b[38;5;241m=\u001b[39m \u001b[38;5;28;43mint\u001b[39;49m\u001b[43m(\u001b[49m\u001b[38;5;124;43m\"\u001b[39;49m\u001b[38;5;124;43m3.99\u001b[39;49m\u001b[38;5;124;43m\"\u001b[39;49m\u001b[43m)\u001b[49m\n\u001b[0;32m      3\u001b[0m \u001b[38;5;28mprint\u001b[39m(a)\n",
      "\u001b[1;31mValueError\u001b[0m: invalid literal for int() with base 10: '3.99'"
     ]
    }
   ],
   "source": [
    "#int\n",
    "a = int(\"3.99\") #ไม่ได้ ดังนั้น เราต้องเปลี่ยนเป็น float ก่อน\n",
    "print(a)"
   ]
  },
  {
   "cell_type": "code",
   "execution_count": 4,
   "id": "522bed8c",
   "metadata": {},
   "outputs": [
    {
     "name": "stdout",
     "output_type": "stream",
     "text": [
      "3\n"
     ]
    }
   ],
   "source": [
    "a = int(float(\"3.99\"))\n",
    "print(a)"
   ]
  },
  {
   "cell_type": "markdown",
   "id": "6653db44",
   "metadata": {},
   "source": [
    "float สามารถ convert ข้อความไปเป็นเลขได้ทั้งหมด ถ้ามี \"\""
   ]
  },
  {
   "cell_type": "markdown",
   "id": "0faa6421",
   "metadata": {},
   "source": []
  },
  {
   "cell_type": "code",
   "execution_count": 6,
   "id": "7a8cbd3c",
   "metadata": {},
   "outputs": [
    {
     "name": "stdout",
     "output_type": "stream",
     "text": [
      "False\n"
     ]
    }
   ],
   "source": [
    "a = bool(0)\n",
    "print(a)"
   ]
  },
  {
   "cell_type": "code",
   "execution_count": 8,
   "id": "f4035e28",
   "metadata": {},
   "outputs": [
    {
     "name": "stdout",
     "output_type": "stream",
     "text": [
      "1\n",
      "False\n"
     ]
    }
   ],
   "source": [
    "a = str(1)\n",
    "print(a)\n",
    "b = str(False)\n",
    "print(b)"
   ]
  },
  {
   "cell_type": "code",
   "execution_count": 10,
   "id": "3c51e615",
   "metadata": {},
   "outputs": [
    {
     "name": "stdout",
     "output_type": "stream",
     "text": [
      "True\n",
      "<class 'bool'>\n"
     ]
    },
    {
     "data": {
      "text/plain": [
       "(None, None)"
      ]
     },
     "execution_count": 10,
     "metadata": {},
     "output_type": "execute_result"
    }
   ],
   "source": [
    "a = bool(str(float(\"2\")))\n",
    "\n",
    "print(a) , print(type(a))"
   ]
  },
  {
   "cell_type": "code",
   "execution_count": null,
   "id": "f005e64b",
   "metadata": {},
   "outputs": [],
   "source": [
    "a = 5\n",
    "a = True\n",
    "# dynamic typed programming language สามารถเปลี่ยน type ได้ตลอดเวลา "
   ]
  },
  {
   "cell_type": "markdown",
   "id": "507d5f43",
   "metadata": {},
   "source": [
    "## mathematical\n"
   ]
  },
  {
   "cell_type": "code",
   "execution_count": null,
   "id": "b7a16673",
   "metadata": {},
   "outputs": [],
   "source": [
    "import math"
   ]
  },
  {
   "cell_type": "code",
   "execution_count": 13,
   "id": "ca6089f0",
   "metadata": {},
   "outputs": [
    {
     "name": "stdout",
     "output_type": "stream",
     "text": [
      "31\n"
     ]
    }
   ],
   "source": [
    "a = 2 + 6 + 3 + 5\n",
    "b = 5 + 10\n",
    "print(a + b)"
   ]
  },
  {
   "cell_type": "markdown",
   "id": "37a90bc0",
   "metadata": {},
   "source": [
    "#### ถ้าต้องที่จะบวกหลาย ๆ ตัว เราจะใช้ sum"
   ]
  },
  {
   "cell_type": "code",
   "execution_count": 28,
   "id": "3c33d3a5",
   "metadata": {},
   "outputs": [
    {
     "name": "stdout",
     "output_type": "stream",
     "text": [
      "0.0\n"
     ]
    }
   ],
   "source": [
    "a = sum((2,6,3,5))\n",
    "\n",
    "b = 2 + 6\n",
    "c = 3 * 5\n",
    "d = int(5-2)\n",
    "e = 10 / 2\n",
    "g = 8//3\n",
    "r = 2 ** 5\n",
    "t = 7 ** 0.5 \n",
    "k = 8 ** (1/7) #ต้องมีวงเล็บก็ดี\n",
    "\n",
    "\n",
    "# p = 5 % 2 # หารเอาเศษ\n",
    "y = 32.0 % 4\n",
    "w = 32.0 % 5.0\n",
    "p = 32.0 % True\n",
    "\n",
    "# print(type(e)) # ผลลัพธ์จะเป็น float เสมอ\n",
    "# print(type(d)) # ผลลัพธ์จะเป็น int\n",
    "# print(k)\n",
    "# print(p)\n",
    "print(p)"
   ]
  },
  {
   "cell_type": "code",
   "execution_count": null,
   "id": "42a34e39",
   "metadata": {},
   "outputs": [
    {
     "name": "stdout",
     "output_type": "stream",
     "text": [
      "2\n"
     ]
    }
   ],
   "source": [
    "(int(8//3))"
   ]
  },
  {
   "cell_type": "code",
   "execution_count": 18,
   "id": "c50e4bad",
   "metadata": {},
   "outputs": [
    {
     "name": "stdout",
     "output_type": "stream",
     "text": [
      "2\n"
     ]
    }
   ],
   "source": [
    "print(int(5/2)) "
   ]
  },
  {
   "cell_type": "markdown",
   "id": "578fe6a6",
   "metadata": {},
   "source": [
    "reseach for the point "
   ]
  },
  {
   "cell_type": "code",
   "execution_count": 29,
   "id": "4abf9cbd",
   "metadata": {},
   "outputs": [
    {
     "data": {
      "text/plain": [
       "0.10000000000000053"
      ]
     },
     "execution_count": 29,
     "metadata": {},
     "output_type": "execute_result"
    }
   ],
   "source": [
    "10 % 3.3"
   ]
  },
  {
   "cell_type": "code",
   "execution_count": 33,
   "id": "fa58f2b3",
   "metadata": {},
   "outputs": [
    {
     "data": {
      "text/plain": [
       "0.30000000000000004"
      ]
     },
     "execution_count": 33,
     "metadata": {},
     "output_type": "execute_result"
    }
   ],
   "source": [
    "7/3\n",
    "0.1 + 0.2"
   ]
  },
  {
   "cell_type": "code",
   "execution_count": 32,
   "id": "6f9826fb",
   "metadata": {},
   "outputs": [
    {
     "name": "stdout",
     "output_type": "stream",
     "text": [
      "1\n"
     ]
    }
   ],
   "source": [
    "a = 0 ** 0\n",
    "print(a)"
   ]
  },
  {
   "cell_type": "code",
   "execution_count": null,
   "id": "a677e634",
   "metadata": {},
   "outputs": [],
   "source": [
    "a = (2 * 2) - (2 / 2) - (2 ** 2) # 1st way\n",
    "a = 2*2 - 2/2 - 2**2 # 2nd way\n",
    "a = 2 * (2 - (1/2) - 2) # 3rd way\n",
    "print(a)"
   ]
  },
  {
   "cell_type": "markdown",
   "id": "64cf5aa2",
   "metadata": {},
   "source": [
    "## Variable Adjustment"
   ]
  },
  {
   "cell_type": "markdown",
   "id": "b7dbe442",
   "metadata": {},
   "source": [
    "### short hand"
   ]
  },
  {
   "cell_type": "code",
   "execution_count": null,
   "id": "660078af",
   "metadata": {},
   "outputs": [
    {
     "name": "stdout",
     "output_type": "stream",
     "text": [
      "8\n"
     ]
    }
   ],
   "source": [
    "a = 5\n",
    "a = a + 1\n",
    "a += 1\n",
    "\n",
    "a -= 2\n",
    "\n",
    "a //= 2\n",
    "\n",
    "a **= 3\n",
    "\n",
    "\n",
    "\n",
    "print(a)"
   ]
  },
  {
   "cell_type": "code",
   "execution_count": 40,
   "id": "7afbde94",
   "metadata": {},
   "outputs": [
    {
     "name": "stdout",
     "output_type": "stream",
     "text": [
      "2\n"
     ]
    }
   ],
   "source": [
    "a = 5\n",
    "a %= 3\n",
    "print(a)"
   ]
  },
  {
   "cell_type": "code",
   "execution_count": null,
   "id": "0659682e",
   "metadata": {},
   "outputs": [],
   "source": []
  },
  {
   "cell_type": "markdown",
   "id": "c935cdca",
   "metadata": {},
   "source": [
    "## logical operation"
   ]
  },
  {
   "cell_type": "markdown",
   "id": "9f48de0d",
   "metadata": {},
   "source": [
    "' proposition ' : statement that you can assign boolean value to it.\n",
    "\n",
    "'you are gay' : is the proposition\n",
    "\n",
    "'are you gay' is not the proposition"
   ]
  },
  {
   "cell_type": "code",
   "execution_count": 46,
   "id": "dede8d58",
   "metadata": {},
   "outputs": [
    {
     "data": {
      "text/plain": [
       "False"
      ]
     },
     "execution_count": 46,
     "metadata": {},
     "output_type": "execute_result"
    }
   ],
   "source": [
    "a = 5\n",
    "2 > 3\n",
    "\n",
    "a > 5\n",
    "\n",
    "2 >= 2\n",
    "\n",
    "2 == 4 #False\n"
   ]
  },
  {
   "cell_type": "markdown",
   "id": "777a3316",
   "metadata": {},
   "source": [
    "= is for the \n",
    "\n",
    "== is to compare two avariable"
   ]
  },
  {
   "cell_type": "code",
   "execution_count": 47,
   "id": "de705a49",
   "metadata": {},
   "outputs": [
    {
     "name": "stdout",
     "output_type": "stream",
     "text": [
      "False\n"
     ]
    }
   ],
   "source": [
    "print(4 > 3 > 3 > 1)"
   ]
  },
  {
   "cell_type": "code",
   "execution_count": 48,
   "id": "ac868d6c",
   "metadata": {},
   "outputs": [
    {
     "name": "stdout",
     "output_type": "stream",
     "text": [
      "False\n"
     ]
    }
   ],
   "source": [
    "print((4 > 3) and (3 > 3) and (3 > 1))"
   ]
  },
  {
   "cell_type": "code",
   "execution_count": 52,
   "id": "895f1ebf",
   "metadata": {},
   "outputs": [
    {
     "name": "stdout",
     "output_type": "stream",
     "text": [
      "False\n",
      "False\n"
     ]
    },
    {
     "data": {
      "text/plain": [
       "True"
      ]
     },
     "execution_count": 52,
     "metadata": {},
     "output_type": "execute_result"
    }
   ],
   "source": [
    "# not and or\n",
    "\n",
    "print(not True)\n",
    "print((not 1) > 2)\n",
    "\n",
    "2 > 3 and 3 > 1 \n",
    "\n",
    "2 > 3 or 3 > 1"
   ]
  },
  {
   "cell_type": "code",
   "execution_count": 53,
   "id": "3d0d4648",
   "metadata": {},
   "outputs": [
    {
     "name": "stdout",
     "output_type": "stream",
     "text": [
      "True\n"
     ]
    }
   ],
   "source": [
    "a = 5\n",
    "b = 6\n",
    "print(a != b-1 or  b**2 > a)"
   ]
  },
  {
   "cell_type": "code",
   "execution_count": 54,
   "id": "c6466ffd",
   "metadata": {},
   "outputs": [
    {
     "name": "stdout",
     "output_type": "stream",
     "text": [
      "True\n"
     ]
    }
   ],
   "source": [
    "a = 0\n",
    "b = 2\n",
    "print(a != b-1 or a)"
   ]
  },
  {
   "cell_type": "code",
   "execution_count": null,
   "id": "5f9886ca",
   "metadata": {},
   "outputs": [
    {
     "data": {
      "text/plain": [
       "8"
      ]
     },
     "execution_count": 57,
     "metadata": {},
     "output_type": "execute_result"
    }
   ],
   "source": [
    "True and 0\n",
    "True and 1 and 0 and 5 #เพราะว่า 0 คือตัวที่แปลว่าค่าออกมาเป็น False ดังนั้นมันจะให้ออกมาเป็น 0\n",
    "True and 1 and 5 and 8 #เพระาว่าทั้งหมดถูกต้อง มันจะแปลค่าออกมาเป็นเลขสุดท้าย\n"
   ]
  },
  {
   "cell_type": "code",
   "execution_count": null,
   "id": "4148c650",
   "metadata": {},
   "outputs": [],
   "source": []
  }
 ],
 "metadata": {
  "kernelspec": {
   "display_name": "base",
   "language": "python",
   "name": "python3"
  },
  "language_info": {
   "codemirror_mode": {
    "name": "ipython",
    "version": 3
   },
   "file_extension": ".py",
   "mimetype": "text/x-python",
   "name": "python",
   "nbconvert_exporter": "python",
   "pygments_lexer": "ipython3",
   "version": "3.12.4"
  }
 },
 "nbformat": 4,
 "nbformat_minor": 5
}
