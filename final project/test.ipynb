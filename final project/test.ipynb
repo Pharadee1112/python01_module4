{
 "cells": [
  {
   "cell_type": "markdown",
   "id": "a2a3aa8d",
   "metadata": {},
   "source": [
    "### final project"
   ]
  },
  {
   "cell_type": "markdown",
   "id": "c98b9c3a",
   "metadata": {},
   "source": [
    "Utility app\n",
    "\n",
    "\n",
    "income-spending, poker game, calculator"
   ]
  },
  {
   "cell_type": "code",
   "execution_count": null,
   "id": "435472e6",
   "metadata": {},
   "outputs": [],
   "source": [
    "import random\n",
    "import os\n",
    "import time\n",
    "import math\n",
    "\n",
    "# ทำอะไรดีน่าาา"
   ]
  }
 ],
 "metadata": {
  "language_info": {
   "name": "python"
  }
 },
 "nbformat": 4,
 "nbformat_minor": 5
}
