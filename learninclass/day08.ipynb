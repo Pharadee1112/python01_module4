{
 "cells": [
  {
   "cell_type": "markdown",
   "id": "31ad6e9a",
   "metadata": {},
   "source": [
    "## in/not in operators\n"
   ]
  },
  {
   "cell_type": "code",
   "execution_count": null,
   "id": "863dd435",
   "metadata": {},
   "outputs": [
    {
     "name": "stdout",
     "output_type": "stream",
     "text": [
      "True\n",
      "True\n",
      "True\n"
     ]
    }
   ],
   "source": [
    "sentence = \"I love Bangkok\"\n",
    "print(\"I\" in sentence)\n",
    "print(\" \" in sentence)\n",
    "print(\"\" in sentence) #เซตว่าง\n",
    "print(\"ok\" in sentence)"
   ]
  },
  {
   "cell_type": "code",
   "execution_count": 3,
   "id": "824003c7",
   "metadata": {},
   "outputs": [
    {
     "name": "stdout",
     "output_type": "stream",
     "text": [
      "A\n",
      "HELLO\n"
     ]
    }
   ],
   "source": [
    "sentence = \"I love Bangkok\"\n",
    "\n",
    "if \"l\" in sentence:\n",
    "    print(\"A\")\n",
    "\n",
    "if \" \" not in sentence or sentence[4] :\n",
    "    print(\"HELLO\")   \n",
    "else :\n",
    "    print(\"WORLD\")     "
   ]
  },
  {
   "cell_type": "markdown",
   "id": "40be5296",
   "metadata": {},
   "source": [
    "## Loop  through String"
   ]
  },
  {
   "cell_type": "markdown",
   "id": "92b0b055",
   "metadata": {},
   "source": [
    "Loop by element"
   ]
  },
  {
   "cell_type": "code",
   "execution_count": 6,
   "id": "6d5283f6",
   "metadata": {},
   "outputs": [
    {
     "name": "stdout",
     "output_type": "stream",
     "text": [
      "10\n"
     ]
    }
   ],
   "source": [
    "sentence = \"I love Bangkok\"\n",
    "\n",
    "count = 0\n",
    "for character in sentence:\n",
    "    if character.islower(): #อันนี้เป็นนับว่าเป็นตัวอักษรตัวเล็กใช่ไหม มีทั้งหมด 10 ตัว\n",
    "        count += 1\n",
    "        \n",
    "print(count)"
   ]
  },
  {
   "cell_type": "markdown",
   "id": "e91c4b36",
   "metadata": {},
   "source": [
    "Loop in index"
   ]
  },
  {
   "cell_type": "code",
   "execution_count": 9,
   "id": "7954e202",
   "metadata": {},
   "outputs": [
    {
     "name": "stdout",
     "output_type": "stream",
     "text": [
      "0 I\n",
      "1  \n",
      "2 L\n",
      "3 o\n",
      "4 v\n",
      "5 e\n",
      "6  \n",
      "7 B\n",
      "8 a\n",
      "9 n\n",
      "10 g\n",
      "11 k\n",
      "12 o\n",
      "13 k\n"
     ]
    }
   ],
   "source": [
    "sentence = \"I Love Bangkok\"\n",
    "\n",
    "for index in range(len(sentence)) :\n",
    "    print(index, sentence[index])"
   ]
  },
  {
   "cell_type": "markdown",
   "id": "b78f9a13",
   "metadata": {},
   "source": [
    "enumerate จับคู่ระหว่าง Index,character"
   ]
  },
  {
   "cell_type": "code",
   "execution_count": 10,
   "id": "237925bb",
   "metadata": {},
   "outputs": [
    {
     "name": "stdout",
     "output_type": "stream",
     "text": [
      "0 I\n",
      "1  \n",
      "2 l\n",
      "3 o\n",
      "4 v\n",
      "5 e\n",
      "6  \n",
      "7 B\n",
      "8 a\n",
      "9 n\n",
      "10 g\n",
      "11 k\n",
      "12 o\n",
      "13 k\n"
     ]
    }
   ],
   "source": [
    "sentence = \"I love Bangkok\"\n",
    "\n",
    "for character in sentence :\n",
    "    pass\n",
    "\n",
    "for index, character in enumerate(sentence):\n",
    "    print(index, character)"
   ]
  },
  {
   "cell_type": "code",
   "execution_count": 14,
   "id": "d1f86b7f",
   "metadata": {},
   "outputs": [
    {
     "data": {
      "text/plain": [
       "('0x7ff899db39d8', '0x1aad7c29690')"
      ]
     },
     "execution_count": 14,
     "metadata": {},
     "output_type": "execute_result"
    }
   ],
   "source": [
    "hex(id(2)), hex(id(2.0)) #มันคือตัวเลขที่ฟเก็บไว้ใน ram ของแก้ม ไม่เหมือนกัน คนละที่"
   ]
  },
  {
   "cell_type": "code",
   "execution_count": 15,
   "id": "c89c7910",
   "metadata": {},
   "outputs": [
    {
     "name": "stdout",
     "output_type": "stream",
     "text": [
      "HELLO\n",
      "HELLO\n",
      "HELLO\n",
      "HELLO\n",
      "HELLO\n",
      "HELLO\n",
      "HELLO\n",
      "HELLO\n",
      "HELLO\n",
      "HELLO\n",
      "HELLO\n",
      "HELLO\n",
      "HELLO\n",
      "HELLO\n",
      "0 I\n",
      "1  \n",
      "2 l\n",
      "3 o\n",
      "4 v\n",
      "5 e\n",
      "6  \n",
      "7 B\n",
      "8 a\n",
      "9 n\n",
      "10 g\n",
      "11 k\n",
      "12 o\n",
      "13 k\n"
     ]
    }
   ],
   "source": [
    "sentence = \"I love Bangkok\"\n",
    "\n",
    "for character in sentence:\n",
    "    print(\"HELLO\")\n",
    "\n",
    "for index, element in enumerate(sentence):\n",
    "    print(index, element) "
   ]
  },
  {
   "cell_type": "code",
   "execution_count": null,
   "id": "4cf7cdeb",
   "metadata": {},
   "outputs": [],
   "source": []
  }
 ],
 "metadata": {
  "kernelspec": {
   "display_name": "base",
   "language": "python",
   "name": "python3"
  },
  "language_info": {
   "codemirror_mode": {
    "name": "ipython",
    "version": 3
   },
   "file_extension": ".py",
   "mimetype": "text/x-python",
   "name": "python",
   "nbconvert_exporter": "python",
   "pygments_lexer": "ipython3",
   "version": "3.12.4"
  }
 },
 "nbformat": 4,
 "nbformat_minor": 5
}
