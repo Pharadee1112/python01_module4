{
 "cells": [
  {
   "cell_type": "markdown",
   "id": "ca83ff59",
   "metadata": {},
   "source": [
    "# for loop "
   ]
  },
  {
   "cell_type": "markdown",
   "id": "82a1aa7f",
   "metadata": {},
   "source": [
    " for loop = ใช้เพื่อรันชุดคำสั่ง (block of code) ซ้ำ ๆ กันตามจำนวนครั้งที่กำหนดไว้แน่นอน  \n",
    "\n",
    " \n",
    " สามารถวนซ้ำ ผ่านสิ่งต่าง ๆ ได้ เช่น range, string, หรือ sequence อื่น ๆ เป็นต้น"
   ]
  },
  {
   "cell_type": "code",
   "execution_count": null,
   "id": "cbcbf632",
   "metadata": {},
   "outputs": [],
   "source": [
    "for counter in (range(1, 11, 2)): #start : stop : step\n",
    "    print(counter)\n",
    "\n",
    "print(\"happy new year!\")\n"
   ]
  },
  {
   "cell_type": "code",
   "execution_count": null,
   "id": "92762263",
   "metadata": {},
   "outputs": [],
   "source": [
    "for counter in reversed(range(1, 11)):\n",
    "    print(counter)\n",
    "\n",
    "print(\"happy new year!\")"
   ]
  },
  {
   "cell_type": "code",
   "execution_count": null,
   "id": "6a7d554a",
   "metadata": {},
   "outputs": [],
   "source": [
    "credit_card = \"1234-6575-789\"\n",
    "\n",
    "for i in credit_card:\n",
    "    print(i) # i คืออะไรก็ได้ใน \"\"(เปลี่ยนตัวแปลก็ได้เช่นกัน)"
   ]
  },
  {
   "cell_type": "markdown",
   "id": "0c9456b8",
   "metadata": {},
   "source": [
    "## continue"
   ]
  },
  {
   "cell_type": "markdown",
   "id": "f7913abf",
   "metadata": {},
   "source": [
    "ก็คือจะข้ามไปเลขนั้นไป เราใช้มันกับ if else :"
   ]
  },
  {
   "cell_type": "code",
   "execution_count": null,
   "id": "f7b14ba8",
   "metadata": {},
   "outputs": [],
   "source": [
    "for x in range(1, 21):\n",
    "    if x == 13:\n",
    "        continue\n",
    "    else:\n",
    "        print(x)\n",
    "\n",
    "        #ก็คือ 1 - 21 ถ้าเลขถึง 13 ให้ข้ามไป ก็คือ 13 หายไป"
   ]
  },
  {
   "cell_type": "markdown",
   "id": "4dbc25b7",
   "metadata": {},
   "source": [
    "## break "
   ]
  },
  {
   "cell_type": "markdown",
   "id": "010e21f0",
   "metadata": {},
   "source": [
    "มันหยุดการ loop อันนี้ไปเลย"
   ]
  },
  {
   "cell_type": "code",
   "execution_count": null,
   "id": "92cecfeb",
   "metadata": {},
   "outputs": [],
   "source": [
    "for x in range(1, 21):\n",
    "    if x == 13 :\n",
    "        break\n",
    "    else:\n",
    "        print(x)"
   ]
  },
  {
   "cell_type": "code",
   "execution_count": null,
   "id": "02dd5d02",
   "metadata": {},
   "outputs": [],
   "source": [
    "number = 1\n",
    "while True:\n",
    "    if number % 6 == 0:\n",
    "        break\n",
    "\n",
    "    print(number)\n",
    "    number += 1\n"
   ]
  },
  {
   "cell_type": "code",
   "execution_count": null,
   "id": "fcef6f6d",
   "metadata": {},
   "outputs": [],
   "source": []
  },
  {
   "cell_type": "code",
   "execution_count": null,
   "id": "e4f11dce",
   "metadata": {},
   "outputs": [],
   "source": [
    "number = 1\n",
    "while number < 20 :\n",
    "    if number % 2 == 0 :\n",
    "        continue\n",
    "    print(number)\n",
    "    number += 1\n",
    "\n",
    "    #ปริ้น 1 ไปตลอดเลย เพราะว่ามันเริ่ม 1 เเล้ว พอเจอ continue จะเริ่ม loop ใหม่ ก็จะรันเลขเดิมก็คือ 1"
   ]
  },
  {
   "cell_type": "code",
   "execution_count": null,
   "id": "bb2c2989",
   "metadata": {},
   "outputs": [
    {
     "name": "stdout",
     "output_type": "stream",
     "text": [
      "1\n",
      "3\n",
      "5\n",
      "7\n",
      "9\n",
      "11\n",
      "13\n",
      "15\n",
      "17\n",
      "19\n"
     ]
    }
   ],
   "source": [
    "number = 1\n",
    "while number < 20 :\n",
    "    if number % 2 == 0 :\n",
    "        number += 1  #เเล้วก็บวก 1 ก่อนที่จะเริ่ม loop ใหม่\n",
    "        continue\n",
    "    print(number)\n",
    "    number += 1"
   ]
  },
  {
   "cell_type": "code",
   "execution_count": null,
   "id": "bfb638fa",
   "metadata": {},
   "outputs": [
    {
     "name": "stdout",
     "output_type": "stream",
     "text": [
      "1\n",
      "2\n",
      "3\n",
      "4\n",
      "5\n",
      "6\n",
      "7\n",
      "8\n",
      "9\n"
     ]
    }
   ],
   "source": [
    "number = 1\n",
    "while number < 10 :\n",
    "    if number % 2 == 0 :\n",
    "        pass # ทำต่อ เพราะว่าเริ่มที่ 1 เจอ pass เเล้วก็วน loop ใหม่ ก็คือทำใหม่ ไม่ให้มัน error\n",
    "    print(number)\n",
    "    number += 1"
   ]
  },
  {
   "cell_type": "markdown",
   "id": "cbd88ee4",
   "metadata": {},
   "source": [
    "## for loop"
   ]
  },
  {
   "cell_type": "markdown",
   "id": "15516e6b",
   "metadata": {},
   "source": [
    "for something in range(something):\n"
   ]
  },
  {
   "cell_type": "code",
   "execution_count": 12,
   "id": "7c2231d1",
   "metadata": {},
   "outputs": [
    {
     "data": {
      "text/plain": [
       "range(1, 10, 2)"
      ]
     },
     "execution_count": 12,
     "metadata": {},
     "output_type": "execute_result"
    }
   ],
   "source": [
    "range(6)\n",
    "range(1)\n",
    "range(0) # 0,0\n",
    "range(1, 10) #  1 2 3 4 5 6 7 8 9\n",
    "\n",
    "range(5, 8)\n",
    "range(1, 10, 2)"
   ]
  },
  {
   "cell_type": "code",
   "execution_count": 14,
   "id": "a5d079d2",
   "metadata": {},
   "outputs": [
    {
     "name": "stdout",
     "output_type": "stream",
     "text": [
      "-3\n",
      "0\n",
      "3\n",
      "6\n"
     ]
    }
   ],
   "source": [
    "for index in range(-3, 7, 3):\n",
    "    print(index)"
   ]
  },
  {
   "cell_type": "code",
   "execution_count": 16,
   "id": "deb05bed",
   "metadata": {},
   "outputs": [
    {
     "name": "stdout",
     "output_type": "stream",
     "text": [
      "10\n",
      "8\n",
      "6\n",
      "4\n",
      "2\n",
      "0\n"
     ]
    }
   ],
   "source": [
    "for index in range(10, -2, -2):\n",
    "    print(index)"
   ]
  },
  {
   "cell_type": "code",
   "execution_count": null,
   "id": "61b783c2",
   "metadata": {},
   "outputs": [],
   "source": [
    "for number in range(10, 0):\n",
    "    print(number)\n",
    "\n",
    "    #ไม่มีปริ้น เพราะว่าstep มันเป็น +1 ตลอด"
   ]
  },
  {
   "cell_type": "code",
   "execution_count": null,
   "id": "cd96f935",
   "metadata": {},
   "outputs": [
    {
     "name": "stdout",
     "output_type": "stream",
     "text": [
      "10\n",
      "8\n",
      "6\n",
      "4\n",
      "2\n"
     ]
    }
   ],
   "source": [
    "for number in range(10, 0 , -2): #ถ้าอยากรวม 0 ด้วย ก้ลด stop ไป 1 เป็น -1\n",
    "    print(number)"
   ]
  },
  {
   "cell_type": "markdown",
   "id": "be07a37e",
   "metadata": {},
   "source": [
    "$2^2$"
   ]
  },
  {
   "cell_type": "code",
   "execution_count": 23,
   "id": "0d76e129",
   "metadata": {},
   "outputs": [
    {
     "name": "stdout",
     "output_type": "stream",
     "text": [
      "55\n"
     ]
    }
   ],
   "source": [
    "number = int(input())\n",
    "\n",
    "sum_index = 0\n",
    "\n",
    "for index in range(1, number + 1):\n",
    "    sum_index += index ** 2 \n",
    "\n",
    "print(sum_index)"
   ]
  },
  {
   "cell_type": "code",
   "execution_count": 26,
   "id": "9659d3a1",
   "metadata": {},
   "outputs": [
    {
     "name": "stdout",
     "output_type": "stream",
     "text": [
      "30\n"
     ]
    }
   ],
   "source": [
    "number = int(input())\n",
    "result = number *(number + 1) * (2 * number + 1) // 6 \n",
    "\n",
    "print(result)"
   ]
  },
  {
   "cell_type": "markdown",
   "id": "e6402ea0",
   "metadata": {},
   "source": [
    "## Nested Loop"
   ]
  },
  {
   "cell_type": "code",
   "execution_count": null,
   "id": "b1d1c9eb",
   "metadata": {},
   "outputs": [],
   "source": [
    "while True:\n",
    "    for i in range(10):\n",
    "        while True:\n",
    "            if True:\n",
    "                pass\n",
    "            elif True:\n",
    "                pass"
   ]
  },
  {
   "cell_type": "code",
   "execution_count": 27,
   "id": "693e3b49",
   "metadata": {},
   "outputs": [
    {
     "name": "stdout",
     "output_type": "stream",
     "text": [
      "0 0\n",
      "0 1\n",
      "0 2\n",
      "1 0\n",
      "1 1\n",
      "1 2\n",
      "2 0\n",
      "2 1\n",
      "2 2\n"
     ]
    }
   ],
   "source": [
    "for first_number in range(3) :\n",
    "    for second_number in range(3):\n",
    "        print(first_number, second_number)"
   ]
  },
  {
   "cell_type": "code",
   "execution_count": 32,
   "id": "fe584c96",
   "metadata": {},
   "outputs": [
    {
     "name": "stdout",
     "output_type": "stream",
     "text": [
      "2 2\n",
      "2 4\n",
      "3 2\n",
      "3 4\n",
      "4 2\n",
      "4 4\n"
     ]
    }
   ],
   "source": [
    "for i in range(2, 5):\n",
    "    for j in range(2, 6, 2):\n",
    "        print(i, j)\n",
    "        "
   ]
  },
  {
   "cell_type": "code",
   "execution_count": 1,
   "id": "54f29631",
   "metadata": {},
   "outputs": [
    {
     "name": "stdout",
     "output_type": "stream",
     "text": [
      "2 1\n",
      "3 3\n",
      "4 1\n",
      "5 3\n"
     ]
    }
   ],
   "source": [
    "i = 2\n",
    "\n",
    "while i < 5:\n",
    "    for j in range(1, 5, 2):\n",
    "        print(i, j)\n",
    "        i += 1"
   ]
  },
  {
   "cell_type": "code",
   "execution_count": null,
   "id": "88529e18",
   "metadata": {},
   "outputs": [],
   "source": []
  }
 ],
 "metadata": {
  "kernelspec": {
   "display_name": "base",
   "language": "python",
   "name": "python3"
  },
  "language_info": {
   "codemirror_mode": {
    "name": "ipython",
    "version": 3
   },
   "file_extension": ".py",
   "mimetype": "text/x-python",
   "name": "python",
   "nbconvert_exporter": "python",
   "pygments_lexer": "ipython3",
   "version": "3.12.4"
  }
 },
 "nbformat": 4,
 "nbformat_minor": 5
}
