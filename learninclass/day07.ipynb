{
 "cells": [
  {
   "cell_type": "markdown",
   "id": "1aaa3b92",
   "metadata": {},
   "source": [
    "## String"
   ]
  },
  {
   "cell_type": "markdown",
   "id": "7d48ada8",
   "metadata": {},
   "source": [
    "= data type that store characters\n",
    "\n",
    "empty_string = \"\"\n",
    "\n",
    "empty_string = ''\n",
    "\n",
    "empty_string = str()\n",
    "\n",
    "empty_string = \"\"\"\"\"\"\n"
   ]
  },
  {
   "cell_type": "code",
   "execution_count": 13,
   "id": "d8271344",
   "metadata": {},
   "outputs": [
    {
     "name": "stdout",
     "output_type": "stream",
     "text": [
      "she said that \"I'm a gay\"\n"
     ]
    }
   ],
   "source": [
    "name = \"Vetit\"\n",
    "\n",
    "name = \"\"\"\n",
    "kam kin kai\n",
    "kam love kfc\n",
    "kam like kai\n",
    "\"\"\"\n",
    "\n",
    "\n",
    "# sentence = 'i'm a boy'\n",
    "sentence = 'I\\'m a boy' #สามรถใช้ได้\n",
    "sentence = \"I'm a gay\"\n",
    "\n",
    "quote = \"she said that \\\"I\\'m a gay\\\"\"\n",
    "print(quote)"
   ]
  },
  {
   "cell_type": "code",
   "execution_count": 23,
   "id": "85228536",
   "metadata": {},
   "outputs": [
    {
     "name": "stdout",
     "output_type": "stream",
     "text": [
      "Hellokam\n",
      "Hellokam\n",
      "Hello kam\n"
     ]
    }
   ],
   "source": [
    "word1 = \"Hello\"\n",
    "word2 = \"kam\"\n",
    "\n",
    "print(word1 + word2)\n",
    "print(f\"{word1 }{word2}\")\n",
    "print(f\"{word1} {word2}\")\n"
   ]
  },
  {
   "cell_type": "markdown",
   "id": "85d34cc6",
   "metadata": {},
   "source": [
    "### Format string"
   ]
  },
  {
   "cell_type": "code",
   "execution_count": null,
   "id": "d9b5a22b",
   "metadata": {},
   "outputs": [
    {
     "name": "stdout",
     "output_type": "stream",
     "text": [
      "16\n"
     ]
    }
   ],
   "source": [
    "number = 2 ** 4\n",
    "sentence = f\"{number}\"\n",
    "print(sentence)"
   ]
  },
  {
   "cell_type": "code",
   "execution_count": null,
   "id": "0e42bec0",
   "metadata": {},
   "outputs": [
    {
     "data": {
      "text/plain": [
       "'Hello kam'"
      ]
     },
     "execution_count": 24,
     "metadata": {},
     "output_type": "execute_result"
    }
   ],
   "source": [
    "# Advance\n",
    "# \" \" join\n",
    "\n",
    "\" \".join([word1, word2]) #[] list"
   ]
  },
  {
   "cell_type": "markdown",
   "id": "2df5bd09",
   "metadata": {},
   "source": [
    "## mutiply the string"
   ]
  },
  {
   "cell_type": "code",
   "execution_count": null,
   "id": "26ddd829",
   "metadata": {},
   "outputs": [
    {
     "name": "stdout",
     "output_type": "stream",
     "text": [
      "cheetahcheetahcheetah\n",
      "\n",
      "\n"
     ]
    }
   ],
   "source": [
    "name = \"cheetah\"\n",
    "\n",
    "print(name * 3)\n",
    "print(name * 0) #emtyp string\n",
    "print(name * -2)\n",
    "\n",
    "#error -> that can mutiply none int\n",
    "print(cheetah * 1.5) \n",
    "print(cheetah * 1.0) \n",
    "\n"
   ]
  },
  {
   "cell_type": "code",
   "execution_count": 43,
   "id": "d2b0b552",
   "metadata": {},
   "outputs": [
    {
     "name": "stdout",
     "output_type": "stream",
     "text": [
      "7\n",
      "8\n",
      "saidghngs, \n",
      "aso : \t100c 23\n",
      "25\n"
     ]
    }
   ],
   "source": [
    "name = \"cheetah\"\n",
    "print(len(name))\n",
    "\n",
    "name = \"cheetah \"\n",
    "print(len(name))\n",
    "\n",
    "name = \"saidghngs, \\naso : \\t100c\"\n",
    "print(name, len(name))\n",
    "\n",
    "# \\n = ขึ้นบรรทัดใหม่\n",
    "# \\t = เว้น หรือการ tab\n",
    "\n",
    "name = \"\"\"Bangkok,\n",
    "Thailand .\n",
    "100C\n",
    "\"\"\"\n",
    "print(len(name)) #นับ enter ด้วย\n"
   ]
  },
  {
   "cell_type": "code",
   "execution_count": null,
   "id": "8de9a203",
   "metadata": {},
   "outputs": [
    {
     "name": "stdout",
     "output_type": "stream",
     "text": [
      ":\n",
      "C\n",
      "C\n",
      "a\n",
      "B\n"
     ]
    },
    {
     "ename": "IndexError",
     "evalue": "string index out of range",
     "output_type": "error",
     "traceback": [
      "\u001b[1;31m---------------------------------------------------------------------------\u001b[0m",
      "\u001b[1;31mIndexError\u001b[0m                                Traceback (most recent call last)",
      "Cell \u001b[1;32mIn[54], line 12\u001b[0m\n\u001b[0;32m     10\u001b[0m \u001b[38;5;28mprint\u001b[39m(sentence[\u001b[38;5;241m-\u001b[39m\u001b[38;5;241m22\u001b[39m])\n\u001b[0;32m     11\u001b[0m \u001b[38;5;28mprint\u001b[39m(sentence[\u001b[38;5;241m-\u001b[39m\u001b[38;5;241m23\u001b[39m])\n\u001b[1;32m---> 12\u001b[0m \u001b[38;5;28mprint\u001b[39m(\u001b[43msentence\u001b[49m\u001b[43m[\u001b[49m\u001b[38;5;241;43m-\u001b[39;49m\u001b[38;5;241;43m24\u001b[39;49m\u001b[43m]\u001b[49m)\n",
      "\u001b[1;31mIndexError\u001b[0m: string index out of range"
     ]
    }
   ],
   "source": [
    "sentence = \"Bangkok, Thailand: 100C\" #เราพูดถึง str เพราะว่ามันเป็น order คือซ้ายไปขวา\n",
    "sentence[22] \n",
    "# sentence[23] error\n",
    "sentence[17] \n",
    "\n",
    "print(sentence[17])\n",
    "\n",
    "print(sentence[len(sentence)-1])\n",
    "print(sentence[-1])\n",
    "print(sentence[-22])\n",
    "print(sentence[-23])\n",
    "print(sentence[-24]) #เพราะว่าตัวเเรกมันคือ ลบ -23\n"
   ]
  },
  {
   "cell_type": "markdown",
   "id": "eb568863",
   "metadata": {},
   "source": [
    "## slicing"
   ]
  },
  {
   "cell_type": "markdown",
   "id": "b42bb3fa",
   "metadata": {},
   "source": [
    "s[a:b:c] \n",
    "start : stop : step"
   ]
  },
  {
   "cell_type": "code",
   "execution_count": 65,
   "id": "6c488813",
   "metadata": {},
   "outputs": [
    {
     "name": "stdout",
     "output_type": "stream",
     "text": [
      "I love\n",
      "Bangkok\n",
      " oeB\n",
      "oga \n",
      "ve Bangkok!\n",
      "ve Bangkok!\n",
      "I lov\n",
      "Ilv ago!\n",
      "!kokgnaB evol I\n",
      "Ilv ago!\n",
      "I love Bangkok!\n"
     ]
    }
   ],
   "source": [
    "s = \"I love Bangkok!\"\n",
    "\n",
    "s[0:6]\n",
    "print(s[0:6])\n",
    "print(s[7:14])\n",
    "print(s[1:8:2])\n",
    "print(s[-3:-10:-2])\n",
    "\n",
    "#from \"v\" to the end of the string\n",
    "print(s[4:len(s)])\n",
    "print(s[4:])\n",
    "print(s[:5])\n",
    "print(s[::2])\n",
    "print(s[::-1])\n",
    "print(s[::2])\n",
    "print(s[:])\n",
    "\n",
    "\n",
    "\n"
   ]
  },
  {
   "cell_type": "markdown",
   "id": "e7871ec0",
   "metadata": {},
   "source": [
    "## Methods"
   ]
  },
  {
   "cell_type": "code",
   "execution_count": null,
   "id": "0e9c6ad8",
   "metadata": {},
   "outputs": [
    {
     "name": "stdout",
     "output_type": "stream",
     "text": [
      "1\n",
      "Peepat loves sigma\n",
      "PEEPAT LOVES SHINSHIN\n",
      "Peepat loves shinshin\n",
      "peepat loves shinshin\n",
      "['Peepat', 'loves', 'ShinShin']\n",
      "['Peep', 'at', 'lov', 'es', 'arm']\n",
      "False\n",
      "True\n",
      "True\n"
     ]
    }
   ],
   "source": [
    "word = \"Peepat loves ShinShin\"\n",
    "\n",
    "print(word.count(\"ee\"))\n",
    "new_word = word.replace(\"ShinShin\",\"sigma\") #เเทน ชินเป็น sigma\n",
    "print(new_word)\n",
    "\n",
    "print(word.upper())\n",
    "print(word.capitalize())\n",
    "print(word.lower())\n",
    "\n",
    "print(word.split()) #เเยกคำเเต่ละคำเป็น list \n",
    "\n",
    "word = \"\"\"\n",
    "Peep\\tat\n",
    "lov es\n",
    "arm\n",
    "\"\"\"\n",
    "print(word.split()) #เเยกคำเเต่ละคำเป็น list \n",
    "# any number of \\n \\t\n",
    "\n",
    "print(word.isalpha()) #word is not an alpha เพราะว่า space ไม่ใช่ alpha จึงเป็น alpha\n",
    "\n",
    "word = \"Peepat\"\n",
    "print(word.isalpha()) \n",
    "\n",
    "word = \"ก\"\n",
    "print(word.isalpha()) #เพราะว่าเป็นพยัญชนะ จึงออกมาเป็น true\n",
    "\n",
    "\n"
   ]
  },
  {
   "cell_type": "code",
   "execution_count": 6,
   "id": "48061baf",
   "metadata": {},
   "outputs": [
    {
     "name": "stdout",
     "output_type": "stream",
     "text": [
      "38\n",
      "2\n",
      "40\n"
     ]
    }
   ],
   "source": [
    "s = \"\"\"\n",
    "[Intro]\n",
    "Desert you\n",
    "Ooh-ooh-ooh-ooh\n",
    "Hurt you\n",
    "\n",
    "[Verse 1]\n",
    "We're no strangers to love\n",
    "You know the rules and so do I (Do I)\n",
    "A full commitment's what I'm thinking of\n",
    "You wouldn't get this from any other guy\n",
    "\n",
    "[Pre-Chorus]\n",
    "I just wanna tell you how I'm feeling\n",
    "Gotta make you understand\n",
    "\n",
    "[Chorus]\n",
    "Never gonna give you up\n",
    "Never gonna let you down\n",
    "Never gonna run around and desert you\n",
    "Never gonna make you cry\n",
    "Never gonna say goodbye\n",
    "Never gonna tell a lie and hurt you\n",
    "\n",
    "[Verse 2]\n",
    "We've known each other for so long\n",
    "Your heart's been aching, but you're too shy to say it (To say it)\n",
    "Inside, we both know what's been going on (Going on)\n",
    "We know the game, and we're gonna play it\n",
    "[Pre-Chorus]\n",
    "And if you ask me how I'm feeling\n",
    "Don't tell me you're too blind to see\n",
    "\n",
    "[Chorus]\n",
    "Never gonna give you up\n",
    "Never gonna let you down\n",
    "Never gonna run around and desert you\n",
    "Never gonna make you cry\n",
    "Never gonna say goodbye\n",
    "Never gonna tell a lie and hurt you\n",
    "Never gonna give you up\n",
    "Never gonna let you down\n",
    "Never gonna run around and desert you\n",
    "Never gonna make you cry\n",
    "Never gonna say goodbye\n",
    "Never gonna tell a lie and hurt you\n",
    "\n",
    "[Bridge]\n",
    "Ooh (Give you up)\n",
    "Ooh-ooh (Give you up)\n",
    "Ooh-ooh\n",
    "Never gonna give, never gonna give (Give you up)\n",
    "Ooh-ooh\n",
    "Never gonna give, never gonna give (Give you up)\n",
    "[Verse 3]\n",
    "We've known each other for so long\n",
    "Your heart's been aching, but you're too shy to say it (To say it)\n",
    "Inside, we both know what's been going on (Going on)\n",
    "We know the game, and we're gonna play it\n",
    "\n",
    "[Pre-Chorus]\n",
    "I just wanna tell you how I'm feeling\n",
    "Gotta make you understand\n",
    "\n",
    "[Chorus]\n",
    "Never gonna give you up\n",
    "Never gonna let you down\n",
    "Never gonna run around and desert you\n",
    "Never gonna make you cry\n",
    "Never gonna say goodbye\n",
    "Never gonna tell a lie and hurt you\n",
    "Never gonna give you up\n",
    "Never gonna let you down\n",
    "Never gonna run around and desert you\n",
    "Never gonna make you cry\n",
    "Never gonna say goodbye\n",
    "Never gonna tell a lie and hurt you\n",
    "Never gonna give you up\n",
    "Never gonna let you down\n",
    "Never gonna run around and desert you\n",
    "Never gonna make you cry\n",
    "Never gonna say goodbye\n",
    "Never gonna tell a lie and hurt you\n",
    "\"\"\"\n",
    "\n",
    "#\n",
    "print(s.count(\"Never gonna\"))\n",
    "print(s.count(\"never gonna\"))\n",
    "print(s.lower().count(\"never gonna\"))\n",
    "\n",
    "# print(s.replace(\"you\" , \"chicken\"))\n",
    "\n",
    "# print(s.replace(\"[Verse 1]\", \"\"))\n",
    "# print(s.replace(\"[Pre-Chorus]\", \"\"))\n",
    "# print(s.replace(\"[Chorus]\", \"\"))\n",
    "# print(s.replace(\"[Verse 2]\", \"\"))\n",
    "# print(s.replace(\"[Bridge]\", \"\"))\n",
    "\n",
    "\n",
    "\n"
   ]
  },
  {
   "cell_type": "code",
   "execution_count": 4,
   "id": "74f0563f",
   "metadata": {},
   "outputs": [
    {
     "name": "stdout",
     "output_type": "stream",
     "text": [
      "\n",
      "\n",
      "Desert you\n",
      "Ooh-ooh-ooh-ooh\n",
      "Hurt you\n",
      "\n",
      "[]\n",
      "We're no strangers to love\n",
      "You know the rules and so do I (Do I)\n",
      "A full commitment's what I'm thinking of\n",
      "You wouldn't get this from any other guy\n",
      "\n",
      "[Pre-Chorus]\n",
      "I just wanna tell you how I'm feeling\n",
      "Gotta make you understand\n",
      "\n",
      "[Chorus]\n",
      "Never gonna give you up\n",
      "Never gonna let you down\n",
      "Never gonna run around and desert you\n",
      "Never gonna make you cry\n",
      "Never gonna say goodbye\n",
      "Never gonna tell a lie and hurt you\n",
      "\n",
      "\n",
      "We've known each other for so long\n",
      "Your heart's been aching, but you're too shy to say it (To say it)\n",
      "Inside, we both know what's been going on (Going on)\n",
      "We know the game, and we're gonna play it\n",
      "[Pre-Chorus]\n",
      "And if you ask me how I'm feeling\n",
      "Don't tell me you're too blind to see\n",
      "\n",
      "[Chorus]\n",
      "Never gonna give you up\n",
      "Never gonna let you down\n",
      "Never gonna run around and desert you\n",
      "Never gonna make you cry\n",
      "Never gonna say goodbye\n",
      "Never gonna tell a lie and hurt you\n",
      "Never gonna give you up\n",
      "Never gonna let you down\n",
      "Never gonna run around and desert you\n",
      "Never gonna make you cry\n",
      "Never gonna say goodbye\n",
      "Never gonna tell a lie and hurt you\n",
      "\n",
      "[Bridge]\n",
      "Ooh (Give you up)\n",
      "Ooh-ooh (Give you up)\n",
      "Ooh-ooh\n",
      "Never gonna give, never gonna give (Give you up)\n",
      "Ooh-ooh\n",
      "Never gonna give, never gonna give (Give you up)\n",
      "[Verse 3]\n",
      "We've known each other for so long\n",
      "Your heart's been aching, but you're too shy to say it (To say it)\n",
      "Inside, we both know what's been going on (Going on)\n",
      "We know the game, and we're gonna play it\n",
      "\n",
      "[Pre-Chorus]\n",
      "I just wanna tell you how I'm feeling\n",
      "Gotta make you understand\n",
      "\n",
      "[Chorus]\n",
      "Never gonna give you up\n",
      "Never gonna let you down\n",
      "Never gonna run around and desert you\n",
      "Never gonna make you cry\n",
      "Never gonna say goodbye\n",
      "Never gonna tell a lie and hurt you\n",
      "Never gonna give you up\n",
      "Never gonna let you down\n",
      "Never gonna run around and desert you\n",
      "Never gonna make you cry\n",
      "Never gonna say goodbye\n",
      "Never gonna tell a lie and hurt you\n",
      "Never gonna give you up\n",
      "Never gonna let you down\n",
      "Never gonna run around and desert you\n",
      "Never gonna make you cry\n",
      "Never gonna say goodbye\n",
      "Never gonna tell a lie and hurt you\n",
      "\n"
     ]
    }
   ],
   "source": [
    "s = s.replace(\"[Intro]\", \"\")\n",
    "s = s.replace(\"[Verse 1]\", \"\")\n",
    "s = s.replace(\"[pre-chorus]\", \"\")\n",
    "s = s.replace(\"[chorus]\", \"\")\n",
    "s = s.replace(\"[Verse 2]\", \"\")\n",
    "s = s.replace(\"[Verse 1]\", \"\")\n",
    "\n",
    "print(s)"
   ]
  },
  {
   "cell_type": "code",
   "execution_count": 5,
   "id": "64bc78f0",
   "metadata": {},
   "outputs": [
    {
     "name": "stdout",
     "output_type": "stream",
     "text": [
      "83\n"
     ]
    }
   ],
   "source": [
    "print(s.count(\"\\n\"))"
   ]
  },
  {
   "cell_type": "code",
   "execution_count": null,
   "id": "f057e4f9",
   "metadata": {},
   "outputs": [],
   "source": []
  }
 ],
 "metadata": {
  "kernelspec": {
   "display_name": "base",
   "language": "python",
   "name": "python3"
  },
  "language_info": {
   "codemirror_mode": {
    "name": "ipython",
    "version": 3
   },
   "file_extension": ".py",
   "mimetype": "text/x-python",
   "name": "python",
   "nbconvert_exporter": "python",
   "pygments_lexer": "ipython3",
   "version": "3.12.4"
  }
 },
 "nbformat": 4,
 "nbformat_minor": 5
}
