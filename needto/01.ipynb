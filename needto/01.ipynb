{
 "cells": [
  {
   "cell_type": "markdown",
   "id": "ca83ff59",
   "metadata": {},
   "source": [
    "# for loop "
   ]
  },
  {
   "cell_type": "markdown",
   "id": "82a1aa7f",
   "metadata": {},
   "source": [
    " for loop = ใช้เพื่อรันชุดคำสั่ง (block of code) ซ้ำ ๆ กันตามจำนวนครั้งที่กำหนดไว้แน่นอน  \n",
    "\n",
    " \n",
    " สามารถวนซ้ำ ผ่านสิ่งต่าง ๆ ได้ เช่น range, string, หรือ sequence อื่น ๆ เป็นต้น"
   ]
  },
  {
   "cell_type": "code",
   "execution_count": null,
   "id": "cbcbf632",
   "metadata": {},
   "outputs": [
    {
     "name": "stdout",
     "output_type": "stream",
     "text": [
      "1\n",
      "3\n",
      "5\n",
      "7\n",
      "9\n",
      "happy new year!\n"
     ]
    }
   ],
   "source": [
    "for counter in (range(1, 11, 2)): #start : stop : step\n",
    "    print(counter)\n",
    "\n",
    "print(\"happy new year!\")\n"
   ]
  },
  {
   "cell_type": "code",
   "execution_count": 4,
   "id": "92762263",
   "metadata": {},
   "outputs": [
    {
     "name": "stdout",
     "output_type": "stream",
     "text": [
      "10\n",
      "9\n",
      "8\n",
      "7\n",
      "6\n",
      "5\n",
      "4\n",
      "3\n",
      "2\n",
      "1\n",
      "happy new year!\n"
     ]
    }
   ],
   "source": [
    "for counter in reversed(range(1, 11)):\n",
    "    print(counter)\n",
    "\n",
    "print(\"happy new year!\")"
   ]
  },
  {
   "cell_type": "code",
   "execution_count": null,
   "id": "6a7d554a",
   "metadata": {},
   "outputs": [
    {
     "name": "stdout",
     "output_type": "stream",
     "text": [
      "1\n",
      "2\n",
      "3\n",
      "4\n",
      "-\n",
      "6\n",
      "5\n",
      "7\n",
      "5\n",
      "-\n",
      "7\n",
      "8\n",
      "9\n"
     ]
    }
   ],
   "source": [
    "credit_card = \"1234-6575-789\"\n",
    "\n",
    "for i in credit_card:\n",
    "    print(i) # i คืออะไรก็ได้ใน \"\"(เปลี่ยนตัวแปลก็ได้เช่นกัน)"
   ]
  },
  {
   "cell_type": "markdown",
   "id": "0c9456b8",
   "metadata": {},
   "source": [
    "## continue"
   ]
  },
  {
   "cell_type": "markdown",
   "id": "f7913abf",
   "metadata": {},
   "source": [
    "ก็คือจะข้ามไปเลขนั้นไป เราใช้มันกับ if else :"
   ]
  },
  {
   "cell_type": "code",
   "execution_count": null,
   "id": "f7b14ba8",
   "metadata": {},
   "outputs": [
    {
     "name": "stdout",
     "output_type": "stream",
     "text": [
      "1\n",
      "2\n",
      "3\n",
      "4\n",
      "5\n",
      "6\n",
      "7\n",
      "8\n",
      "9\n",
      "10\n",
      "11\n",
      "12\n",
      "14\n",
      "15\n",
      "16\n",
      "17\n",
      "18\n",
      "19\n",
      "20\n"
     ]
    }
   ],
   "source": [
    "for x in range(1, 21):\n",
    "    if x == 13:\n",
    "        continue\n",
    "    else:\n",
    "        print(x)\n",
    "\n",
    "        #ก็คือ 1 - 21 ถ้าเลขถึง 13 ให้ข้ามไป ก็คือ 13 หายไป"
   ]
  },
  {
   "cell_type": "markdown",
   "id": "4dbc25b7",
   "metadata": {},
   "source": [
    "## break "
   ]
  },
  {
   "cell_type": "markdown",
   "id": "010e21f0",
   "metadata": {},
   "source": [
    "มันหยุดการ loop อันนี้ไปเลย"
   ]
  },
  {
   "cell_type": "code",
   "execution_count": 9,
   "id": "92cecfeb",
   "metadata": {},
   "outputs": [
    {
     "name": "stdout",
     "output_type": "stream",
     "text": [
      "1\n",
      "2\n",
      "3\n",
      "4\n",
      "5\n",
      "6\n",
      "7\n",
      "8\n",
      "9\n",
      "10\n",
      "11\n",
      "12\n"
     ]
    }
   ],
   "source": [
    "for x in range(1, 21):\n",
    "    if x == 13 :\n",
    "        break\n",
    "    else:\n",
    "        print(x)"
   ]
  },
  {
   "cell_type": "code",
   "execution_count": null,
   "id": "02dd5d02",
   "metadata": {},
   "outputs": [],
   "source": []
  }
 ],
 "metadata": {
  "kernelspec": {
   "display_name": "base",
   "language": "python",
   "name": "python3"
  },
  "language_info": {
   "codemirror_mode": {
    "name": "ipython",
    "version": 3
   },
   "file_extension": ".py",
   "mimetype": "text/x-python",
   "name": "python",
   "nbconvert_exporter": "python",
   "pygments_lexer": "ipython3",
   "version": "3.12.4"
  }
 },
 "nbformat": 4,
 "nbformat_minor": 5
}
