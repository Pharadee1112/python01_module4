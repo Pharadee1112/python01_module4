{
 "cells": [
  {
   "cell_type": "markdown",
   "id": "71c2ef10",
   "metadata": {},
   "source": []
  }
 ],
 "metadata": {
  "language_info": {
   "name": "python"
  }
 },
 "nbformat": 4,
 "nbformat_minor": 5
}
