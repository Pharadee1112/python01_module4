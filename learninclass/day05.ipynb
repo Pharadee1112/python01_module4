{
 "cells": [
  {
   "cell_type": "markdown",
   "id": "03587914",
   "metadata": {},
   "source": [
    "## in class track"
   ]
  },
  {
   "cell_type": "markdown",
   "id": "ccaee1a1",
   "metadata": {},
   "source": [
    "elif ถ้าข้างบนไม่จริง ก็ให้มาเช็กบรรทัดต่อไป ว่าถูกไหม"
   ]
  },
  {
   "cell_type": "markdown",
   "id": "7c790f66",
   "metadata": {},
   "source": []
  },
  {
   "cell_type": "code",
   "execution_count": null,
   "id": "1bc0fb8c",
   "metadata": {},
   "outputs": [
    {
     "name": "stdout",
     "output_type": "stream",
     "text": [
      "C\n"
     ]
    }
   ],
   "source": [
    "x = float(input())\n",
    "\n",
    "if (x % 2 == 0) and (x % 3 != 0) :\n",
    "    print(\"B\")\n",
    "\n",
    "elif (x % 2 == 0) and (x % 3 == 0) :\n",
    "    print(\"C\") \n",
    "\n",
    "elif x % 2 != 0 :\n",
    "    print(\"D\")"
   ]
  },
  {
   "cell_type": "code",
   "execution_count": 21,
   "id": "44499eeb",
   "metadata": {},
   "outputs": [
    {
     "name": "stdout",
     "output_type": "stream",
     "text": [
      "D\n"
     ]
    }
   ],
   "source": [
    "x = float(input())\n",
    "\n",
    "if x % 2 == 0:\n",
    "    if x % 3 != 0:\n",
    "        print(\"B\")\n",
    "    \n",
    "    elif x % 3 == 0:\n",
    "        print(\"C\")\n",
    "else:\n",
    "    print(\"D\")"
   ]
  },
  {
   "cell_type": "markdown",
   "id": "f2118a41",
   "metadata": {},
   "source": [
    "หรือ\n"
   ]
  },
  {
   "cell_type": "code",
   "execution_count": null,
   "id": "b69ae1b9",
   "metadata": {},
   "outputs": [],
   "source": [
    "x = float(input())\n",
    "\n",
    "if x % 2 == 0:\n",
    "    if x % 3 != 0:\n",
    "        print(\"B\")\n",
    "    \n",
    "    else:\n",
    "        print(\"C\")\n",
    "else:\n",
    "    print(\"D\")"
   ]
  }
 ],
 "metadata": {
  "kernelspec": {
   "display_name": "base",
   "language": "python",
   "name": "python3"
  },
  "language_info": {
   "codemirror_mode": {
    "name": "ipython",
    "version": 3
   },
   "file_extension": ".py",
   "mimetype": "text/x-python",
   "name": "python",
   "nbconvert_exporter": "python",
   "pygments_lexer": "ipython3",
   "version": "3.12.4"
  }
 },
 "nbformat": 4,
 "nbformat_minor": 5
}
